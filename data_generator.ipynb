{
 "cells": [
  {
   "cell_type": "code",
   "execution_count": 136,
   "metadata": {},
   "outputs": [],
   "source": [
    "from PIL import Image, ImageDraw, ImageFont\n",
    "import numpy as np\n",
    "import random\n",
    "import os"
   ]
  },
  {
   "cell_type": "code",
   "execution_count": 293,
   "metadata": {},
   "outputs": [],
   "source": [
    "import logging\n",
    "from logging import handlers\n",
    "\n",
    "logger = logging.getLogger(__name__)\n",
    "handler_stream = logging.StreamHandler() #output to console\n",
    "formatter = logging.Formatter(\"%(asctime)s:::%(module)s:::%(message)s\")\n",
    "handler_stream.setFormatter(formatter)\n",
    "logger.setLevel(logging.INFO)\n",
    "logger.addHandler(handler_stream)\n",
    "\n",
    "class data_generator(object):\n",
    "    \n",
    "    def __init__(self, images_height = 32, image_width = 256, max_string_lenght = 50, \n",
    "                 background_type = ['real','conts'], dataset_type = 'random', backgrounds_path = 'backgrounds/',\n",
    "                 fonts_path = 'valid_fonts/', valid_charset_path = 'valid_charset.txt', \n",
    "                 text_examples = 'text_examples.txt'):\n",
    "        '''\n",
    "        background_type - list consist used types of bg, e.g. ['real', 'random', 'plain']. \n",
    "                    If use 'real', then backgrounds_path should be set to used backgrounds.\n",
    "        dataset - type of dataset 'random' or 'samples'. If 'samples' then text_examples\n",
    "                    should be defined. If 'random' then text string will be generated from valid \n",
    "                    charset randomly\n",
    "        valid_char_set - path to text file with valid chars.\n",
    "        '''\n",
    "        assert set(['real', 'random', 'plain']).intersection(set(background_type)) == \\\n",
    "                        set(background_type), 'background_type argument should consist only \"real\", \"random\" or \"conts\"'\n",
    "        assert dataset_type in ['random', 'samples'] , 'dataset_type argument should be one of \"random\" or \"samples\"'\n",
    "        self.images_height = images_height\n",
    "        self.image_width = image_width\n",
    "        self.max_string_lenght = max_string_lenght\n",
    "        self.background_type = background_type\n",
    "        self.dataset_type = dataset_type\n",
    "        self.backgrounds_files = None\n",
    "        if 'real' in background_type:\n",
    "            self.backgrounds_files = (backgrounds_path, self.set_backgrounds(backgrounds_path))\n",
    "        self.text_samples = None\n",
    "        if dataset_type == 'samples':\n",
    "            self.text_samples = self.set_texts_samples(text_examples)\n",
    "        self.fonts_files = (fonts_path, self.set_fonts(fonts_path))\n",
    "        logging.info('{} fonts to produce data'.format(len(self.fonts_files)))\n",
    "        self.valid_charset = self.set_valid_charset(valid_charset_path) + list('    ') #add three blank spaces to encrease probobility\n",
    "        \n",
    "    def get_batch(self, batch_size = 64):\n",
    "        '''\n",
    "        produce batch of text string images images\n",
    "        '''\n",
    "        background = sample_background()\n",
    "        pass\n",
    "    \n",
    "    def get_text_image(self, font, background):\n",
    "        '''\n",
    "        produce one text string image\n",
    "        '''\n",
    "        text_string = sample_random_string()\n",
    "        \n",
    "        return text_string\n",
    "    def sample_font_file(self, size=20):\n",
    "        font_file = random.sample(self.fonts_files[1], 1)[0]\n",
    "        fnt = ImageFont.truetype(self.fonts_files[0] + font_file, size)\n",
    "        return fnt\n",
    "    \n",
    "    def sample_string(self,):\n",
    "        if self.dataset_type == 'random':\n",
    "            random_string_length = random.randint(1, self.max_string_lenght)\n",
    "            text_string_indx = [random.randint(0, len(self.valid_charset)-1) for _ in range(random_string_length)]\n",
    "            text_string = ''.join([self.valid_charset[i] for i in text_string_indx])\n",
    "        elif self.dataset_type == 'sample':\n",
    "            assert self.text_samples != None, 'self.text_sample is None, cant get examples of text'\n",
    "            text_string = random.sample(self.text_samples, 1)[0]\n",
    "        return text_string\n",
    "    \n",
    "    def sample_background(self,):\n",
    "        bg_type = random.sample(self.background_type,1)[0]\n",
    "        if bg_type == 'plain':\n",
    "            backgroun_image = Image.new('L', (self.image_width, self.images_height), 128)\n",
    "        elif bg_type == 'real':\n",
    "            background_file = random.sample(self.backgrounds_files[1], 1)[0]\n",
    "            background_file_path = self.backgrounds_files[0] + background_file\n",
    "            backgroun_image = Image.open(background_file_path)\n",
    "            backgroun_image = backgroun_image.convert('L')\n",
    "            width, height = backgroun_image.size\n",
    "            left, upper = width - self.image_width, height - self.images_height\n",
    "            rndm_left, rndm_upper = random.randint(0, left), random.randint(0, upper)\n",
    "            backgroun_image = backgroun_image.crop(box=(rndm_left, rndm_upper, \n",
    "                                                   rndm_left+self.image_width, rndm_upper+self.images_height))\n",
    "        return backgroun_image\n",
    "\n",
    "    def set_fonts(self, path):\n",
    "        '''\n",
    "        set fonts path\n",
    "        '''\n",
    "        assert os.path.isdir(path), 'There is no folder {}'.format(path)\n",
    "        fonts_path = [f for f in next(os.walk(path))[2] if os.path.splitext(f)[1] == '.ttf']\n",
    "        assert len(fonts_path) !=0, 'Folder {} is empty'.format(path)\n",
    "        return fonts_path\n",
    "    \n",
    "    def set_backgrounds(self, path):\n",
    "        '''\n",
    "        set background images path\n",
    "        '''\n",
    "        assert os.path.isdir(path), 'There is no folder {}'.format(path)\n",
    "        backgrounds_files = [f for f in next(os.walk(path))[2] if os.path.splitext(f)[1] == '.jpg']\n",
    "        valid_backgrounds_files = []\n",
    "        for f in backgrounds_files:\n",
    "            im = Image.open(path+f)\n",
    "            width, height = im.size\n",
    "            if width>=self.image_width and height>=self.images_height:\n",
    "                valid_backgrounds_files.append(f)\n",
    "        assert len(valid_backgrounds_files) !=0, 'No valid backgounds in {}'.format(path)\n",
    "        logging.info('{} background files to produce data'.format(len(valid_backgrounds_files)))\n",
    "        return valid_backgrounds_files\n",
    "    \n",
    "    def set_texts_samples(self, path):\n",
    "        '''\n",
    "        set text file which lines will be used as text strings to draw\n",
    "        '''\n",
    "        assert os.path.isfile(path), 'There is no file {}'.format(path)\n",
    "        with open(path,'r',encoding='utf-8') as f:\n",
    "            text_samples = r.read().split('\\n')\n",
    "        text_samples = list(set(text_samples))\n",
    "        assert len(text_samples) != 0, 'text samples file is empty'\n",
    "        logging.info('{} text strings to produce data'.format(len(text_samples)))\n",
    "        return text_samples\n",
    "    \n",
    "    def set_valid_charset(self, path):\n",
    "        '''\n",
    "        set usable chars\n",
    "        '''\n",
    "        assert os.path.isfile(path), 'There is no file {}'.format(path)\n",
    "        with open(path,'r',encoding='utf-8') as f:\n",
    "            charset_string = f.read()\n",
    "        valid_charset = list(set(charset_string))\n",
    "        assert len(valid_charset) != 0, 'valid charset is empty'\n",
    "        return valid_charset\n",
    "            "
   ]
  },
  {
   "cell_type": "code",
   "execution_count": 294,
   "metadata": {},
   "outputs": [],
   "source": [
    "dg = data_generator(background_type=['real','plain'])"
   ]
  },
  {
   "cell_type": "code",
   "execution_count": null,
   "metadata": {},
   "outputs": [],
   "source": [
    "dg.sample_background()"
   ]
  },
  {
   "cell_type": "code",
   "execution_count": 223,
   "metadata": {},
   "outputs": [],
   "source": [
    "i = Image.open('backgrounds/009f50066527919646b952e12a6367cd.jpg')"
   ]
  },
  {
   "cell_type": "code",
   "execution_count": 224,
   "metadata": {},
   "outputs": [
    {
     "data": {
      "text/plain": [
       "(1100, 619)"
      ]
     },
     "execution_count": 224,
     "metadata": {},
     "output_type": "execute_result"
    }
   ],
   "source": [
    "i.size"
   ]
  },
  {
   "cell_type": "code",
   "execution_count": null,
   "metadata": {},
   "outputs": [],
   "source": []
  }
 ],
 "metadata": {
  "kernelspec": {
   "display_name": "Python 3",
   "language": "python",
   "name": "python3"
  },
  "language_info": {
   "codemirror_mode": {
    "name": "ipython",
    "version": 3
   },
   "file_extension": ".py",
   "mimetype": "text/x-python",
   "name": "python",
   "nbconvert_exporter": "python",
   "pygments_lexer": "ipython3",
   "version": "3.5.2"
  }
 },
 "nbformat": 4,
 "nbformat_minor": 2
}
